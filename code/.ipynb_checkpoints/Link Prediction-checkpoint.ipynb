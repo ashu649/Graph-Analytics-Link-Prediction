{
 "cells": [
  {
   "cell_type": "markdown",
   "metadata": {},
   "source": [
    "\n",
    "## --------------------------------------------------------------------------------------------------------------------------\n",
    "## Implementation of Chapter 8 : Neo4J Graph Algorithm Book\n",
    "\n",
    "### Please read chapter 8 before going through this code. This codes implement the link prediction algorithm  using Python's Pandas and Sklearn library (book has PySpark implementation)\n",
    "\n",
    "### See Chapter 8 for Data location and Data Load information\n",
    "\n",
    "### Graph Structure (Author)-[:Author]->(:Article)\n",
    "\n",
    "## --------------------------------------------------------------------------------------------------------------------------"
   ]
  },
  {
   "cell_type": "markdown",
   "metadata": {},
   "source": [
    "## You will need to install Neo4J Desktop edition in order to work with this code\n",
    "\n",
    "## See page 202 of Chapter 8 (section - \"Importing the Data into Neo4j\") for instructions to load data into Neo4j server"
   ]
  },
  {
   "cell_type": "code",
   "execution_count": 2,
   "metadata": {},
   "outputs": [],
   "source": [
    "# Load in our libraries\n",
    "import pandas as pd\n",
    "import numpy as np\n",
    "import re\n",
    "import seaborn as sns\n",
    "import matplotlib.pyplot as plt\n",
    "import pyodbc\n",
    "import xgboost\n",
    "\n",
    "#%matplotlib inline\n",
    "import datetime\n",
    "\n",
    "pd.set_option('display.max_rows', 20)\n",
    "pd.set_option('display.max_columns', 100)\n",
    "pd.set_option('display.width', 2000)\n",
    "\n",
    "\n",
    "from neo4j import GraphDatabase \n",
    "neo4j_username = \"\"\n",
    "neo4j_password = \"\"\n",
    "driver = GraphDatabase.driver(\"bolt://localhost:11003\",auth=(neo4j_username,neo4j_password))"
   ]
  },
  {
   "cell_type": "markdown",
   "metadata": {},
   "source": [
    "### Function to print Neo4J Query Summary Stats"
   ]
  },
  {
   "cell_type": "code",
   "execution_count": 4,
   "metadata": {},
   "outputs": [],
   "source": [
    "# following function executes a Cypher Query\n",
    "def Execute_Cypher_Query(Cypher_Query):\n",
    "    with driver.session() as session:\n",
    "        session.run(Cypher_Query)\n",
    "        session.close()"
   ]
  },
  {
   "cell_type": "code",
   "execution_count": 5,
   "metadata": {},
   "outputs": [],
   "source": [
    "# following function prints output of Cypher Query alogn with returing a Pandas dataframe\n",
    "def Get_Cypher_Results_DF(Cypher_Query, print_rows=2):\n",
    "    with driver.session() as session:\n",
    "        df = pd.DataFrame([dict(row) for row in session.run(Cypher_Query)])\n",
    "        print(df.head(print_rows))\n",
    "        session.close()\n",
    "        return df"
   ]
  },
  {
   "cell_type": "markdown",
   "metadata": {},
   "source": [
    "## Add relationships between Authors if they have worked on the same Article"
   ]
  },
  {
   "cell_type": "code",
   "execution_count": 6,
   "metadata": {},
   "outputs": [
    {
     "name": "stdout",
     "output_type": "stream",
     "text": [
      "   Count_Rel\n",
      "0     155224\n"
     ]
    }
   ],
   "source": [
    "Co_Auther_Query = \"\"\"MATCH (a1)<-[:AUTHOR]-(paper)-[:AUTHOR]->(a2:Author)\n",
    "WITH a1, a2, paper\n",
    "ORDER BY a1, paper.year\n",
    "WITH a1, a2, collect(paper)[0].year AS year, count(*) AS collaborations\n",
    "MERGE (a1)-[coauthor:CO_AUTHOR {year: year}]-(a2)\n",
    "SET coauthor.collaborations = collaborations\"\"\"\n",
    "\n",
    "Execute_Cypher_Query(Co_Auther_Query)\n",
    "df = Get_Cypher_Results_DF(\"\"\"MATCH ()-[r:CO_AUTHOR]->() Return count(r) as Count_Rel\"\"\")\n"
   ]
  },
  {
   "cell_type": "markdown",
   "metadata": {},
   "source": [
    "## EDA Charts : Summary on Relationship Start Year"
   ]
  },
  {
   "cell_type": "code",
   "execution_count": 8,
   "metadata": {},
   "outputs": [
    {
     "name": "stdout",
     "output_type": "stream",
     "text": [
      "   year  count\n",
      "0  1958     19\n",
      "1  1959     42\n",
      "2  1960     53\n",
      "3  1961    166\n",
      "4  1962    201\n"
     ]
    }
   ],
   "source": [
    "rel_year_query = \"\"\"\n",
    "MATCH (article:Article)\n",
    "RETURN article.year AS year, count(*) AS count\n",
    "ORDER BY year\n",
    "\"\"\"\n",
    "\n",
    "Year_DF = Get_Cypher_Results_DF(rel_year_query,5)"
   ]
  },
  {
   "cell_type": "code",
   "execution_count": 12,
   "metadata": {},
   "outputs": [
    {
     "data": {
      "image/png": "[encoded data removed]",
      "text/plain": [
       "<Figure size 1080x216 with 1 Axes>"
      ]
     },
     "metadata": {},
     "output_type": "display_data"
    }
   ],
   "source": [
    "plt.style.use('fivethirtyeight')\n",
    "plt.figure(figsize=(15,3))\n",
    "plt.bar(Year_DF['year'], Year_DF['count'])\n",
    "plt.ylim(0,8000);"
   ]
  },
  {
   "cell_type": "markdown",
   "metadata": {},
   "source": [
    "## Create training (year < 2006) and test dataset (year >= 2006)"
   ]
  },
  {
   "cell_type": "code",
   "execution_count": 9,
   "metadata": {},
   "outputs": [
    {
     "name": "stdout",
     "output_type": "stream",
     "text": [
      "   training  count\n",
      "0     False  21059\n",
      "1      True  30897\n"
     ]
    }
   ],
   "source": [
    "# Count # articles published before and after 2006\n",
    "df = Get_Cypher_Results_DF(\"\"\"MATCH (article:Article)\n",
    "RETURN article.year < 2006 AS training, count(*) AS count\"\"\")"
   ]
  },
  {
   "cell_type": "markdown",
   "metadata": {},
   "source": [
    "## Create New Relationships to reflect training and test graph structure"
   ]
  },
  {
   "cell_type": "code",
   "execution_count": 15,
   "metadata": {},
   "outputs": [],
   "source": [
    "## Create relationship \"CO_AUTHOR_EARLY\" for Relationships that formed before 2006\n",
    "Execute_Cypher_Query(\"\"\"\n",
    "MATCH (a1)-[coAuthor:CO_AUTHOR]-(a2:Author)\n",
    "WHERE coAuthor.year < 2006\n",
    "MERGE (a1)-[coauthorEarly:CO_AUTHOR_EARLY {year: coAuthor.year}]-(a2)\n",
    "SET coauthorEarly.collaborations = coAuthor.collaborations\n",
    "\"\"\")\n",
    "\n",
    "## Create relationship \"CO_AUTHOR_LATE\" for Relationships that formed on or after 2006\n",
    "Execute_Cypher_Query(\"\"\"MATCH (a1)-[coAuthor:CO_AUTHOR]-(a2:Author)\n",
    "WHERE coAuthor.year >= 2006\n",
    "MERGE (a1)-[coauthorLate:CO_AUTHOR_LATE {year: coAuthor.year}]-(a2)\n",
    "SET coauthorLate.collaborations = coAuthor.collaborations\"\"\")"
   ]
  },
  {
   "cell_type": "code",
   "execution_count": 12,
   "metadata": {},
   "outputs": [
    {
     "name": "stdout",
     "output_type": "stream",
     "text": [
      "           type(r)  count(*)\n",
      "0        CO_AUTHOR    155224\n",
      "1   CO_AUTHOR_LATE     74128\n",
      "2  CO_AUTHOR_EARLY     81096\n"
     ]
    }
   ],
   "source": [
    "# relation counts\n",
    "df = Get_Cypher_Results_DF(\"\"\"Match (a1:Author)-[r]->(a2:Author) Return type(r), count(*)\"\"\", 5)"
   ]
  },
  {
   "cell_type": "code",
   "execution_count": 13,
   "metadata": {},
   "outputs": [
    {
     "name": "stdout",
     "output_type": "stream",
     "text": [
      "   count(a1)\n",
      "0      45018\n",
      "   count(a1)\n",
      "0      39238\n"
     ]
    }
   ],
   "source": [
    "# Total Number of unique Authors \n",
    "df = Get_Cypher_Results_DF(\"\"\"Match (a1:Author)-[r:CO_AUTHOR_EARLY]-(a2:Author) with distinct a1 Return count(a1)\"\"\")\n",
    "df = Get_Cypher_Results_DF(\"\"\"Match (a1:Author)-[r:CO_AUTHOR_LATE]-(a2:Author) with distinct a1 Return count(a1)\"\"\")"
   ]
  },
  {
   "cell_type": "markdown",
   "metadata": {},
   "source": [
    "### We have 314,248 pairs of nodes that don’t have a relationship between each other at a distance of two hops. If we increase the distance to three hops, we have 967,677 pairs of nodes\n",
    "\n",
    "### Run the train and test data creation code once and create output files. Use the output files to create dataset ..."
   ]
  },
  {
   "cell_type": "markdown",
   "metadata": {},
   "source": [
    "## Create test and train data"
   ]
  },
  {
   "cell_type": "code",
   "execution_count": 15,
   "metadata": {},
   "outputs": [
    {
     "name": "stdout",
     "output_type": "stream",
     "text": [
      "    node1  node2  label\n",
      "0   29132  10001      1\n",
      "1  115774  10001      1\n"
     ]
    }
   ],
   "source": [
    "train_existing_links = Get_Cypher_Results_DF(\"\"\"\n",
    "MATCH (author:Author)-[:CO_AUTHOR_EARLY]->(other:Author)\n",
    "RETURN id(author) AS node1, id(other) AS node2, 1 AS label\n",
    "\"\"\")"
   ]
  },
  {
   "cell_type": "code",
   "execution_count": null,
   "metadata": {},
   "outputs": [],
   "source": [
    "train_missing_links = Get_Cypher_Results_DF(\"\"\"\n",
    "MATCH (author:Author)\n",
    "WHERE (author)-[:CO_AUTHOR_EARLY]-()\n",
    "MATCH (author)-[:CO_AUTHOR_EARLY*2..3]-(other)\n",
    "WHERE not((author)-[:CO_AUTHOR_EARLY]-(other))\n",
    "RETURN id(author) AS node1, id(other) AS node2, 0 AS label\n",
    "\"\"\")\n",
    "\n",
    "train_missing_links_2.drop_duplicates().shape"
   ]
  },
  {
   "cell_type": "markdown",
   "metadata": {},
   "source": [
    "## Load Test Data"
   ]
  },
  {
   "cell_type": "code",
   "execution_count": null,
   "metadata": {},
   "outputs": [],
   "source": [
    "test_existing_links = Get_Cypher_Results_DF(\"\"\"\n",
    "MATCH (author:Author)-[:CO_AUTHOR_LATE]->(other:Author)\n",
    "RETURN id(author) AS node1, id(other) AS node2, 1 AS label\n",
    "\"\"\")"
   ]
  },
  {
   "cell_type": "code",
   "execution_count": null,
   "metadata": {},
   "outputs": [],
   "source": [
    "test_missing_links = Get_Cypher_Results_DF(\"\"\"\n",
    "MATCH (author:Author)\n",
    "WHERE (author)-[:CO_AUTHOR_LATE]-()\n",
    "MATCH (author)-[:CO_AUTHOR_LATE*2..3]-(other)\n",
    "WHERE not((author)-[:CO_AUTHOR_LATE]-(other))\n",
    "RETURN id(author) AS node1, id(other) AS node2, 0 AS label\n",
    "\"\"\")\n",
    "\n",
    "test_missing_links_2.drop_duplicates().shape"
   ]
  },
  {
   "cell_type": "markdown",
   "metadata": {},
   "source": [
    "# Load Test and Train Dataset\n",
    "## Test and Train Data Exported to the following files:\n",
    "###  # train_existing_links # train_missing_links\n",
    "\n",
    "### # test_existing_links # test_missing_links"
   ]
  },
  {
   "cell_type": "code",
   "execution_count": 19,
   "metadata": {},
   "outputs": [],
   "source": [
    "test_existing_links = pd.read_csv('test_existing_links.txt', index_col = 0)\n",
    "test_missing_links = pd.read_csv('test_missing_links.txt')\n",
    "train_existing_links = pd.read_csv('train_existing_links.txt', index_col = 0)\n",
    "train_missing_links = pd.read_csv('train_missing_links.txt', index_col = 0)"
   ]
  },
  {
   "cell_type": "code",
   "execution_count": 20,
   "metadata": {},
   "outputs": [],
   "source": [
    "test_missing_links.drop(columns='Unnamed: 0', inplace=True)"
   ]
  },
  {
   "cell_type": "code",
   "execution_count": 21,
   "metadata": {},
   "outputs": [
    {
     "name": "stdout",
     "output_type": "stream",
     "text": [
      "test existing links - (74128, 3)\n",
      "test missing links - (1265118, 3)\n",
      "train existing links - (81096, 3)\n",
      "train missing links - (973019, 3)\n"
     ]
    }
   ],
   "source": [
    "print(\"test existing links - {}\".format(test_existing_links.shape))\n",
    "print(\"test missing links - {}\".format(test_missing_links.shape))\n",
    "print(\"train existing links - {}\".format(train_existing_links.shape))\n",
    "print(\"train missing links - {}\".format(train_missing_links.shape))"
   ]
  },
  {
   "cell_type": "markdown",
   "metadata": {},
   "source": [
    "# We have class imbalance problem here ....\n",
    "# The following function will be used to downsample the negative examples"
   ]
  },
  {
   "cell_type": "code",
   "execution_count": 22,
   "metadata": {},
   "outputs": [],
   "source": [
    "np.random.seed(42)\n",
    "def down_sample(df, samples):\n",
    "    range_df = np.arange(0, df.shape[0])\n",
    "    # inplace shuffle \n",
    "    np.random.shuffle(range_df)\n",
    "    # select samples from shuffled series\n",
    "    index = range_df[:samples]\n",
    "    return(df.iloc[index])"
   ]
  },
  {
   "cell_type": "markdown",
   "metadata": {},
   "source": [
    "## Set up training dataframe"
   ]
  },
  {
   "cell_type": "code",
   "execution_count": 23,
   "metadata": {},
   "outputs": [
    {
     "data": {
      "text/plain": [
       "label\n",
       "0    81096\n",
       "1    81096\n",
       "dtype: int64"
      ]
     },
     "execution_count": 23,
     "metadata": {},
     "output_type": "execute_result"
    }
   ],
   "source": [
    "training_df = down_sample(train_missing_links, train_existing_links.shape[0])\n",
    "training_df = training_df.append(train_existing_links)\n",
    "training_df.groupby('label').size()"
   ]
  },
  {
   "cell_type": "markdown",
   "metadata": {},
   "source": [
    "## Set up training dataframe"
   ]
  },
  {
   "cell_type": "code",
   "execution_count": 24,
   "metadata": {},
   "outputs": [
    {
     "data": {
      "text/plain": [
       "label\n",
       "0    74128\n",
       "1    74128\n",
       "dtype: int64"
      ]
     },
     "execution_count": 24,
     "metadata": {},
     "output_type": "execute_result"
    }
   ],
   "source": [
    "test_df = down_sample(test_missing_links, test_existing_links.shape[0])\n",
    "test_df = test_df.append(test_existing_links)\n",
    "test_df.groupby('label').size()"
   ]
  },
  {
   "cell_type": "markdown",
   "metadata": {},
   "source": [
    "# Predicting Links: Basic Graph Features"
   ]
  },
  {
   "cell_type": "markdown",
   "metadata": {},
   "source": [
    "## Load <a href=\"https://neo4j.com/docs/graph-data-science/current/algorithms/linkprediction/\" target=\"_blank\" rel=\"noreferrer noopener\">Basic Graph Features</a> commonAuthors, prefAttachment, & totalNeighbours using GSD Library\n"
   ]
  },
  {
   "cell_type": "code",
   "execution_count": 25,
   "metadata": {},
   "outputs": [],
   "source": [
    "### Common authors\n",
    "def apply_graphy_training_features(data, relationship):\n",
    "    query = \"\"\"\n",
    "    UNWIND $pairs AS pair\n",
    "    MATCH (p1) WHERE id(p1) = pair.node1\n",
    "    MATCH (p2) WHERE id(p2) = pair.node2\n",
    "    RETURN pair.node1 AS node1,\n",
    "    pair.node2 AS node2,\n",
    "    gds.alpha.linkprediction.commonNeighbors(p1, p2, {\n",
    "    relationshipQuery: $relationship}) AS commonAuthors,\n",
    "    gds.alpha.linkprediction.preferentialAttachment(p1, p2, {\n",
    "    relationshipQuery: $relationship}) AS prefAttachment,\n",
    "    gds.alpha.linkprediction.totalNeighbors(p1, p2, {\n",
    "    relationshipQuery: $relationship}) AS totalNeighbours\n",
    "    \"\"\"\n",
    "    pairs = [{\n",
    "        \"node1\": int(row[\"node1\"]),\n",
    "        \"node2\": int(row[\"node2\"])\n",
    "    } for i, row in data.iterrows()] \n",
    "    \n",
    "    with driver.session() as session:\n",
    "        features = pd.DataFrame(session.run(query, {'pairs' : pairs, 'relationship' : relationship}))\n",
    "        session.close\n",
    "    features.columns = ['node1', 'node2', 'commonAuthors', 'prefAttachment', 'totalNeighbours']\n",
    "    return data.merge(features, how = 'inner', on = ['node1','node2'])"
   ]
  },
  {
   "cell_type": "markdown",
   "metadata": {},
   "source": [
    "### apply \"apply_graphy_training_features\" function to our training and test DataFrames"
   ]
  },
  {
   "cell_type": "code",
   "execution_count": 43,
   "metadata": {},
   "outputs": [
    {
     "name": "stdout",
     "output_type": "stream",
     "text": [
      "2021-04-18 19:33:28.938545\n",
      "2021-04-18 19:34:26.274789\n"
     ]
    }
   ],
   "source": [
    "import datetime\n",
    "print(datetime.datetime.now())\n",
    "training_df_features = apply_graphy_training_features(training_df, \"CO_AUTHOR_EARLY\")\n",
    "print(datetime.datetime.now())"
   ]
  },
  {
   "cell_type": "code",
   "execution_count": 44,
   "metadata": {},
   "outputs": [
    {
     "name": "stdout",
     "output_type": "stream",
     "text": [
      "2021-04-18 19:34:26.302216\n",
      "2021-04-18 19:35:23.295649\n"
     ]
    }
   ],
   "source": [
    "import datetime\n",
    "print(datetime.datetime.now())\n",
    "test_df_features = apply_graphy_training_features(test_df, \"CO_AUTHOR\")\n",
    "print(datetime.datetime.now())"
   ]
  },
  {
   "cell_type": "markdown",
   "metadata": {},
   "source": [
    "# plot common authors histogram"
   ]
  },
  {
   "cell_type": "code",
   "execution_count": 46,
   "metadata": {},
   "outputs": [],
   "source": [
    "train_common_authors_0 = training_df_features[training_df_features['label']==0].groupby(['commonAuthors']).size()/training_df_features[training_df_features['label']==0].shape[0]\n",
    "train_common_authors_1 = training_df_features[training_df_features['label']==1].groupby(['commonAuthors']).size()/training_df_features[training_df_features['label']==1].shape[0]\n",
    "\n",
    "test_common_authors_0 = test_df_features[test_df_features['label']==0].groupby(['commonAuthors']).size()/test_df_features[test_df_features['label']==0].shape[0]\n",
    "test_common_authors_1 = test_df_features[test_df_features['label']==1].groupby(['commonAuthors']).size()/test_df_features[test_df_features['label']==1].shape[0]"
   ]
  },
  {
   "cell_type": "code",
   "execution_count": 47,
   "metadata": {},
   "outputs": [
    {
     "data": {
      "text/plain": [
       "Text(0.5, 1.0, 'Training Data - Common Autors with Label 1')"
      ]
     },
     "execution_count": 47,
     "metadata": {},
     "output_type": "execute_result"
    },
    {
     "data": {
      "image/png": "[encoded data removed]",
      "text/plain": [
       "<Figure size 1152x360 with 2 Axes>"
      ]
     },
     "metadata": {
      "needs_background": "light"
     },
     "output_type": "display_data"
    }
   ],
   "source": [
    "# Plot % of Common Authors for training data (label 0/1) \n",
    "plt.figure(figsize=(16,5))\n",
    "plt.subplot(1, 2, 1)\n",
    "plt.bar(train_common_authors_0[train_common_authors_0 > 0.001].index,\\\n",
    "        train_common_authors_0[train_common_authors_0 > 0.001].values)\n",
    "plt.title(\"Training Data - Common Authors with Label 0\")\n",
    "\n",
    "plt.subplot(1, 2, 2)\n",
    "plt.bar(train_common_authors_1[train_common_authors_1 > 0.001].index,\\\n",
    "        train_common_authors_1[train_common_authors_1 > 0.001].values)\n",
    "plt.title(\"Training Data - Common Autors with Label 1\")\n"
   ]
  },
  {
   "cell_type": "code",
   "execution_count": 48,
   "metadata": {},
   "outputs": [
    {
     "data": {
      "text/plain": [
       "Text(0.5, 1.0, 'Training Data - Common Autors with Label 1')"
      ]
     },
     "execution_count": 48,
     "metadata": {},
     "output_type": "execute_result"
    },
    {
     "data": {
      "image/png": "[encoded data removed]",
      "text/plain": [
       "<Figure size 1152x360 with 2 Axes>"
      ]
     },
     "metadata": {
      "needs_background": "light"
     },
     "output_type": "display_data"
    }
   ],
   "source": [
    "# Plot % of Common Authors for test data (label 0/1) \n",
    "plt.figure(figsize=(16,5))\n",
    "plt.subplot(1, 2, 1)\n",
    "plt.bar(test_common_authors_0[test_common_authors_0 > 0.001].index,\\\n",
    "        test_common_authors_0[test_common_authors_0 > 0.001].values)\n",
    "plt.title(\"Training Data - Common Authors with Label 0\")\n",
    "\n",
    "plt.subplot(1, 2, 2)\n",
    "plt.bar(test_common_authors_1[test_common_authors_1 > 0.001].index,\\\n",
    "        test_common_authors_1[test_common_authors_1 > 0.001].values)\n",
    "plt.title(\"Training Data - Common Autors with Label 1\")\n"
   ]
  },
  {
   "cell_type": "markdown",
   "metadata": {},
   "source": [
    "# Train a model : Link Prediction"
   ]
  },
  {
   "cell_type": "code",
   "execution_count": 66,
   "metadata": {},
   "outputs": [],
   "source": [
    "from sklearn.pipeline import Pipeline, make_pipeline\n",
    "from sklearn.base import BaseEstimator, TransformerMixin\n",
    "from xgboost import XGBRFClassifier as xgb\n",
    "from sklearn.ensemble import RandomForestClassifier\n",
    "from sklearn.preprocessing import StandardScaler\n",
    "from sklearn.metrics import accuracy_score, f1_score, recall_score, precision_score"
   ]
  },
  {
   "cell_type": "code",
   "execution_count": 32,
   "metadata": {},
   "outputs": [],
   "source": [
    "# Prepare_Dataset class : creates dataset for modeling containing only selected features \n",
    "class Prepare_Dataset(BaseEstimator, TransformerMixin):\n",
    "    def __init__(self, features):\n",
    "        print(\"Initialize instance\") \n",
    "        self.features = features\n",
    "    def fit(self, X, y=None):\n",
    "        return self\n",
    "    def transform(self, X):\n",
    "        return np.array(X[self.features]).reshape(-1, len(self.features))"
   ]
  },
  {
   "cell_type": "markdown",
   "metadata": {},
   "source": [
    "## Create a pipeline for data preparation\n",
    "## Add addtional transformers to the pipeline if needed"
   ]
  },
  {
   "cell_type": "code",
   "execution_count": 53,
   "metadata": {},
   "outputs": [
    {
     "name": "stdout",
     "output_type": "stream",
     "text": [
      "Initialize instance\n"
     ]
    }
   ],
   "source": [
    "prepare_dataset_params = {'features' : ['commonAuthors','prefAttachment','totalNeighbours']}\n",
    "model_params = {'max_depth':4, 'n_estimators':100}\n",
    "\n",
    "data_pipeline = Pipeline([\n",
    "    ('prepare_dataset', Prepare_Dataset(**prepare_dataset_params)),\n",
    "    ('scaler', StandardScaler())\n",
    "    ])\n",
    "\n",
    "model_pipeline = Pipeline([\n",
    "    #('xgb', xgb(**model_params))\n",
    "    ('rf', RandomForestClassifier(**model_params))\n",
    "    ])"
   ]
  },
  {
   "cell_type": "code",
   "execution_count": 54,
   "metadata": {},
   "outputs": [],
   "source": [
    "# run fit_transform for training dataset and transform for test dataset\n",
    "X_Train = data_pipeline.fit_transform(training_df_features)\n",
    "y_Train = np.array(training_df_features['label']).reshape(-1, )\n",
    "X_Test = data_pipeline.transform(test_df_features)\n",
    "y_Test = np.array(test_df_features['label']).reshape(-1, )"
   ]
  },
  {
   "cell_type": "code",
   "execution_count": 55,
   "metadata": {},
   "outputs": [
    {
     "data": {
      "text/plain": [
       "Pipeline(steps=[('rf', RandomForestClassifier(max_depth=4))])"
      ]
     },
     "execution_count": 55,
     "metadata": {},
     "output_type": "execute_result"
    }
   ],
   "source": [
    "model_pipeline.fit(X_Train, y_Train)"
   ]
  },
  {
   "cell_type": "code",
   "execution_count": 61,
   "metadata": {},
   "outputs": [
    {
     "data": {
      "text/plain": [
       "actual  predicted\n",
       "0       0            76094\n",
       "        1             5002\n",
       "1       0            16410\n",
       "        1            64686\n",
       "dtype: int64"
      ]
     },
     "execution_count": 61,
     "metadata": {},
     "output_type": "execute_result"
    }
   ],
   "source": [
    "# Create Data for Confusion Matrix \n",
    "pd.DataFrame({'actual':y_Train, 'predicted' : model_pipeline.predict(X_Train)}).groupby(['actual','predicted']).size()"
   ]
  },
  {
   "cell_type": "code",
   "execution_count": 67,
   "metadata": {},
   "outputs": [
    {
     "name": "stdout",
     "output_type": "stream",
     "text": [
      "{'Accuracy': 0.8679836243464536, 'Recall': 0.7976472329091447, 'Precision': 0.9282229365170475, 'F1': 0.8579955432937182}\n"
     ]
    }
   ],
   "source": [
    "metrics_train = {'Accuracy' : accuracy_score(y_Train, model_pipeline.predict(X_Train)),\\\n",
    "           'Recall' : recall_score(y_Train, model_pipeline.predict(X_Train)),\\\n",
    "           'Precision' : precision_score(y_Train, model_pipeline.predict(X_Train)),\\\n",
    "           'F1' : f1_score(y_Train, model_pipeline.predict(X_Train))}\n",
    "print(metrics_train)"
   ]
  },
  {
   "cell_type": "code",
   "execution_count": 68,
   "metadata": {},
   "outputs": [
    {
     "name": "stdout",
     "output_type": "stream",
     "text": [
      "{'Accuracy': 0.888652061299374, 'Recall': 0.8310489963306713, 'Precision': 0.9392571811916814, 'F1': 0.881846030519053}\n"
     ]
    }
   ],
   "source": [
    "metrics_test = {'Accuracy' : accuracy_score(y_Test, model_pipeline.predict(X_Test)),\\\n",
    "           'Recall' : recall_score(y_Test, model_pipeline.predict(X_Test)),\\\n",
    "           'Precision' : precision_score(y_Test, model_pipeline.predict(X_Test)),\\\n",
    "           'F1' : f1_score(y_Test, model_pipeline.predict(X_Test))}\n",
    "print(metrics_test)"
   ]
  },
  {
   "cell_type": "code",
   "execution_count": 71,
   "metadata": {},
   "outputs": [
    {
     "data": {
      "image/png": "[encoded data removed]",
      "text/plain": [
       "<Figure size 576x288 with 1 Axes>"
      ]
     },
     "metadata": {
      "needs_background": "light"
     },
     "output_type": "display_data"
    }
   ],
   "source": [
    "df = pd.DataFrame(list(model_pipeline[0].feature_importances_), index = list(prepare_dataset_params['features']))\n",
    "df.sort_values(by=[0], ascending = False).plot.bar(figsize = (8,4));"
   ]
  },
  {
   "cell_type": "markdown",
   "metadata": {},
   "source": [
    "# Add additional <a href = 'https://neo4j.com/docs/graph-data-science/current/algorithms/community/' target=\"_blank\" rel=\"noreferrer noopener\"> Graphy Features</a> (1) Triangle Count (2) Clustering Coefficient"
   ]
  },
  {
   "cell_type": "code",
   "execution_count": 75,
   "metadata": {},
   "outputs": [],
   "source": [
    "Triangle_Count_Train = \"\"\"\n",
    "CALL gds.triangleCount.write({\n",
    "nodeProjection: 'Author',\n",
    "relationshipProjection: {\n",
    "CO_AUTHOR_EARLY: {\n",
    "type: 'CO_AUTHOR_EARLY',\n",
    "orientation: 'UNDIRECTED'\n",
    "}\n",
    "},\n",
    "writeProperty: 'trianglesTrain'\n",
    "});\n",
    "\"\"\"\n",
    "\n",
    "Triangle_Count_Test = \"\"\"\n",
    "CALL gds.triangleCount.write({\n",
    "nodeProjection: 'Author',\n",
    "relationshipProjection: {\n",
    "CO_AUTHOR: {\n",
    "type: 'CO_AUTHOR',\n",
    "orientation: 'UNDIRECTED'\n",
    "}\n",
    "},\n",
    "writeProperty: 'trianglesTest'\n",
    "});\"\"\"\n",
    "\n",
    "\n",
    "Execute_Cypher_Query(Triangle_Count_Train)\n",
    "Execute_Cypher_Query(Triangle_Count_Test)"
   ]
  },
  {
   "cell_type": "code",
   "execution_count": 76,
   "metadata": {},
   "outputs": [],
   "source": [
    "Cluster_Train = \"\"\"CALL gds.localClusteringCoefficient.write({\n",
    "nodeProjection: 'Author',\n",
    "relationshipProjection: {\n",
    "CO_AUTHOR_EARLY: {\n",
    "type: 'CO_AUTHOR_EARLY',\n",
    "orientation: 'UNDIRECTED'\n",
    "}\n",
    "},\n",
    "writeProperty: 'coefficientTrain'\n",
    "});\"\"\"\n",
    "\n",
    "Cluster_Test = \"\"\"CALL gds.localClusteringCoefficient.write({\n",
    "nodeProjection: 'Author',\n",
    "relationshipProjection: {\n",
    "CO_AUTHOR: {\n",
    "type: 'CO_AUTHOR',\n",
    "orientation: 'UNDIRECTED'\n",
    "}\n",
    "},\n",
    "writeProperty: 'coefficientTest'\n",
    "});\"\"\"\n",
    "\n",
    "Execute_Cypher_Query(Cluster_Train)\n",
    "Execute_Cypher_Query(Cluster_Test)"
   ]
  },
  {
   "cell_type": "markdown",
   "metadata": {},
   "source": [
    "## Add Features to the Dataframe"
   ]
  },
  {
   "cell_type": "code",
   "execution_count": 78,
   "metadata": {},
   "outputs": [],
   "source": [
    "### Common authors\n",
    "def apply_triangles_features(data, triangles_prop, coefficient_prop):\n",
    "    query = \"\"\"\n",
    "    UNWIND $pairs AS pair\n",
    "    MATCH (p1) WHERE id(p1) = pair.node1\n",
    "    MATCH (p2) WHERE id(p2) = pair.node2\n",
    "    RETURN pair.node1 AS node1,\n",
    "    pair.node2 AS node2,\n",
    "    apoc.coll.min([p1[$trianglesProp], p2[$trianglesProp]])\n",
    "    AS minTriangles,\n",
    "    apoc.coll.max([p1[$trianglesProp], p2[$trianglesProp]])\n",
    "    AS maxTriangles,\n",
    "    apoc.coll.min([p1[$coefficientProp], p2[$coefficientProp]])\n",
    "    AS minCoefficient,\n",
    "    apoc.coll.max([p1[$coefficientProp], p2[$coefficientProp]])\n",
    "    AS maxCoefficient\n",
    "    \"\"\"\n",
    "    pairs = [{\n",
    "        \"node1\": int(row[\"node1\"]),\n",
    "        \"node2\": int(row[\"node2\"])\n",
    "    } for i, row in data.iterrows()] \n",
    "    \n",
    "    with driver.session() as session:\n",
    "        features = pd.DataFrame(session.run(query, {'pairs':pairs, 'trianglesProp':triangles_prop, 'coefficientProp':coefficient_prop}))\n",
    "        session.close\n",
    "    features.columns = ['node1', 'node2', 'minTriangles', 'maxTriangles', 'minCoefficient', 'maxCoefficient']\n",
    "    return data.merge(features, how = 'inner', on = ['node1','node2'])"
   ]
  },
  {
   "cell_type": "code",
   "execution_count": 79,
   "metadata": {},
   "outputs": [],
   "source": [
    "training_df_features_2 = apply_triangles_features(training_df_features,\"trianglesTrain\", \"coefficientTrain\")\n",
    "test_df_features_2 = apply_triangles_features(test_df_features,\"trianglesTest\", \"coefficientTest\")"
   ]
  },
  {
   "cell_type": "code",
   "execution_count": 80,
   "metadata": {},
   "outputs": [
    {
     "data": {
      "text/html": [
       "<div>\n",
       "<style scoped>\n",
       "    .dataframe tbody tr th:only-of-type {\n",
       "        vertical-align: middle;\n",
       "    }\n",
       "\n",
       "    .dataframe tbody tr th {\n",
       "        vertical-align: top;\n",
       "    }\n",
       "\n",
       "    .dataframe thead th {\n",
       "        text-align: right;\n",
       "    }\n",
       "</style>\n",
       "<table border=\"1\" class=\"dataframe\">\n",
       "  <thead>\n",
       "    <tr style=\"text-align: right;\">\n",
       "      <th></th>\n",
       "      <th>node1</th>\n",
       "      <th>node2</th>\n",
       "      <th>label</th>\n",
       "      <th>commonAuthors</th>\n",
       "      <th>prefAttachment</th>\n",
       "      <th>totalNeighbours</th>\n",
       "      <th>minTriangles</th>\n",
       "      <th>maxTriangles</th>\n",
       "      <th>minCoefficient</th>\n",
       "      <th>maxCoefficient</th>\n",
       "    </tr>\n",
       "  </thead>\n",
       "  <tbody>\n",
       "    <tr>\n",
       "      <th>0</th>\n",
       "      <td>75446</td>\n",
       "      <td>77302</td>\n",
       "      <td>0</td>\n",
       "      <td>1.0</td>\n",
       "      <td>550.0</td>\n",
       "      <td>46.0</td>\n",
       "      <td>18</td>\n",
       "      <td>62</td>\n",
       "      <td>0.06</td>\n",
       "      <td>0.268398</td>\n",
       "    </tr>\n",
       "    <tr>\n",
       "      <th>1</th>\n",
       "      <td>113428</td>\n",
       "      <td>71802</td>\n",
       "      <td>0</td>\n",
       "      <td>0.0</td>\n",
       "      <td>8.0</td>\n",
       "      <td>6.0</td>\n",
       "      <td>1</td>\n",
       "      <td>6</td>\n",
       "      <td>1.00</td>\n",
       "      <td>1.000000</td>\n",
       "    </tr>\n",
       "  </tbody>\n",
       "</table>\n",
       "</div>"
      ],
      "text/plain": [
       "    node1  node2  label  commonAuthors  prefAttachment  totalNeighbours  minTriangles  maxTriangles  minCoefficient  maxCoefficient\n",
       "0   75446  77302      0            1.0           550.0             46.0            18            62            0.06        0.268398\n",
       "1  113428  71802      0            0.0             8.0              6.0             1             6            1.00        1.000000"
      ]
     },
     "execution_count": 80,
     "metadata": {},
     "output_type": "execute_result"
    }
   ],
   "source": [
    "test_df_features_2.head(2)"
   ]
  },
  {
   "cell_type": "code",
   "execution_count": 85,
   "metadata": {},
   "outputs": [
    {
     "name": "stdout",
     "output_type": "stream",
     "text": [
      "Initialize instance\n",
      "Fitting 3 folds for each of 2 candidates, totalling 6 fits\n",
      "[CV] xgb__max_depth=3, xgb__n_estimators=50 ..........................\n"
     ]
    },
    {
     "name": "stderr",
     "output_type": "stream",
     "text": [
      "[Parallel(n_jobs=1)]: Using backend SequentialBackend with 1 concurrent workers.\n"
     ]
    },
    {
     "name": "stdout",
     "output_type": "stream",
     "text": [
      "[CV] ........... xgb__max_depth=3, xgb__n_estimators=50, total=   2.2s\n",
      "[CV] xgb__max_depth=3, xgb__n_estimators=50 ..........................\n"
     ]
    },
    {
     "name": "stderr",
     "output_type": "stream",
     "text": [
      "[Parallel(n_jobs=1)]: Done   1 out of   1 | elapsed:    2.2s remaining:    0.0s\n"
     ]
    },
    {
     "name": "stdout",
     "output_type": "stream",
     "text": [
      "[CV] ........... xgb__max_depth=3, xgb__n_estimators=50, total=   2.1s\n",
      "[CV] xgb__max_depth=3, xgb__n_estimators=50 ..........................\n",
      "[CV] ........... xgb__max_depth=3, xgb__n_estimators=50, total=   2.4s\n",
      "[CV] xgb__max_depth=5, xgb__n_estimators=50 ..........................\n",
      "[CV] ........... xgb__max_depth=5, xgb__n_estimators=50, total=   3.1s\n",
      "[CV] xgb__max_depth=5, xgb__n_estimators=50 ..........................\n",
      "[CV] ........... xgb__max_depth=5, xgb__n_estimators=50, total=   2.9s\n",
      "[CV] xgb__max_depth=5, xgb__n_estimators=50 ..........................\n",
      "[CV] ........... xgb__max_depth=5, xgb__n_estimators=50, total=   2.7s\n"
     ]
    },
    {
     "name": "stderr",
     "output_type": "stream",
     "text": [
      "[Parallel(n_jobs=1)]: Done   6 out of   6 | elapsed:   15.4s finished\n"
     ]
    }
   ],
   "source": [
    "# GRID SEARCH \n",
    "# add additional hyperparameter in the grid_search_params variable .. I have added just 2 combination below for illustration purpose\n",
    "from sklearn.model_selection import GridSearchCV\n",
    "\n",
    "prepare_dataset_params = {'features' : ['commonAuthors','prefAttachment','totalNeighbours', 'minTriangles',\\\n",
    "                                        'maxTriangles', 'minCoefficient', 'maxCoefficient']\n",
    "                         }\n",
    "\n",
    "grid_search_params = [{\n",
    "    'xgb__max_depth':[3,5],\n",
    "    'xgb__n_estimators' : [50]\n",
    "}]\n",
    "\n",
    "data_pipeline = Pipeline([\n",
    "    ('prepare_dataset', Prepare_Dataset(**prepare_dataset_params)),\n",
    "    ])\n",
    "\n",
    "model_pipeline = Pipeline([\n",
    "    ('scaler', StandardScaler()),\n",
    "    ('xgb', xgb(use_label_encoder=False, eval_metric = 'logloss', ))\n",
    "    ])\n",
    "\n",
    "Grid_Search = GridSearchCV(model_pipeline, param_grid=grid_search_params, cv=3,  verbose=2)\n",
    "\n",
    "X_Train = data_pipeline.fit_transform(training_df_features_2)\n",
    "y_Train = np.array(training_df_features_2['label']).reshape(-1, )\n",
    "X_Test = data_pipeline.transform(test_df_features_2)\n",
    "y_Test = np.array(test_df_features_2['label']).reshape(-1, )\n",
    "Grid_Search.fit(X_Train, y_Train);"
   ]
  },
  {
   "cell_type": "code",
   "execution_count": 87,
   "metadata": {},
   "outputs": [
    {
     "name": "stdout",
     "output_type": "stream",
     "text": [
      "Initialize instance\n"
     ]
    }
   ],
   "source": [
    "prepare_dataset_params = {'features' : ['commonAuthors','prefAttachment','totalNeighbours', 'minTriangles',\\\n",
    "                                        'maxTriangles', 'minCoefficient', 'maxCoefficient']\n",
    "                         }\n",
    "\n",
    "model_params = {'max_depth':5, 'n_estimators':100}\n",
    "\n",
    "data_pipeline = Pipeline([\n",
    "    ('prepare_dataset', Prepare_Dataset(**prepare_dataset_params)),\n",
    "    ('scaler', StandardScaler())\n",
    "    ])\n",
    "\n",
    "model_pipeline = Pipeline([\n",
    "    #(xgb', xgb(**model_params))\n",
    "    ('rf', RandomForestClassifier(**model_params))\n",
    "    ])\n",
    "\n",
    "X_Train = data_pipeline.fit_transform(training_df_features_2)\n",
    "y_Train = np.array(training_df_features_2['label']).reshape(-1, )\n",
    "X_Test = data_pipeline.transform(test_df_features_2)\n",
    "y_Test = np.array(test_df_features_2['label']).reshape(-1, )\n",
    "\n"
   ]
  },
  {
   "cell_type": "code",
   "execution_count": 88,
   "metadata": {},
   "outputs": [
    {
     "data": {
      "text/plain": [
       "Pipeline(steps=[('rf', RandomForestClassifier(max_depth=5))])"
      ]
     },
     "execution_count": 88,
     "metadata": {},
     "output_type": "execute_result"
    }
   ],
   "source": [
    "model_pipeline.fit(X_Train, y_Train)"
   ]
  },
  {
   "cell_type": "code",
   "execution_count": 89,
   "metadata": {},
   "outputs": [
    {
     "data": {
      "image/png": "[encoded data removed]",
      "text/plain": [
       "<Figure size 1080x360 with 1 Axes>"
      ]
     },
     "metadata": {
      "needs_background": "light"
     },
     "output_type": "display_data"
    }
   ],
   "source": [
    "df = pd.DataFrame(list(model_pipeline[0].feature_importances_), index = list(prepare_dataset_params['features']))\n",
    "df.sort_values(by=[0], ascending = False).plot.bar(figsize = (15,5));"
   ]
  },
  {
   "cell_type": "code",
   "execution_count": 90,
   "metadata": {},
   "outputs": [
    {
     "name": "stdout",
     "output_type": "stream",
     "text": [
      "{'Accuracy': 0.9048905001479728, 'Recall': 0.8596478248002367, 'F1': 0.9003835871207718}\n"
     ]
    }
   ],
   "source": [
    "metrics_train = {'Accuracy' : accuracy_score(y_Train, model_pipeline.predict(X_Train)),\\\n",
    "           'Recall' : recall_score(y_Train, model_pipeline.predict(X_Train)),\\\n",
    "           'F1' : f1_score(y_Train, model_pipeline.predict(X_Train))}\n",
    "print(metrics_train)"
   ]
  },
  {
   "cell_type": "code",
   "execution_count": 91,
   "metadata": {},
   "outputs": [
    {
     "name": "stdout",
     "output_type": "stream",
     "text": [
      "{'Accuracy': 0.9139259119361105, 'Recall': 0.8741501187135765, 'F1': 0.9103604268082804}\n"
     ]
    }
   ],
   "source": [
    "metrics_test = {'Accuracy' : accuracy_score(y_Test, model_pipeline.predict(X_Test)),\\\n",
    "           'Recall' : recall_score(y_Test, model_pipeline.predict(X_Test)),\\\n",
    "           'F1' : f1_score(y_Test, model_pipeline.predict(X_Test))}\n",
    "print(metrics_test)"
   ]
  },
  {
   "cell_type": "markdown",
   "metadata": {},
   "source": [
    "# Predicting Links: Community Detection"
   ]
  },
  {
   "cell_type": "code",
   "execution_count": 92,
   "metadata": {},
   "outputs": [],
   "source": [
    "LP_Community_Train = \"\"\"CALL gds.labelPropagation.write({\n",
    "nodeProjection: \"Author\",\n",
    "relationshipProjection: {\n",
    "CO_AUTHOR_EARLY: {\n",
    "type: 'CO_AUTHOR_EARLY',\n",
    "orientation: 'UNDIRECTED'\n",
    "}\n",
    "},\n",
    "writeProperty: \"partitionTrain\"\n",
    "});\"\"\"\n",
    "\n",
    "LP_Community_Test = \"\"\"\n",
    "CALL gds.labelPropagation.write({\n",
    "nodeProjection: \"Author\",\n",
    "relationshipProjection: {\n",
    "CO_AUTHOR: {\n",
    "type: 'CO_AUTHOR',\n",
    "orientation: 'UNDIRECTED'\n",
    "}\n",
    "},\n",
    "writeProperty: \"partitionTest\"\n",
    "});\n",
    "\"\"\"\n",
    "Execute_Cypher_Query(LP_Community_Train)\n",
    "Execute_Cypher_Query(LP_Community_Test)"
   ]
  },
  {
   "cell_type": "code",
   "execution_count": 93,
   "metadata": {},
   "outputs": [],
   "source": [
    "Louvian_Community_Train = \"\"\"CALL gds.louvain.stream({\n",
    "nodeProjection: 'Author',\n",
    "relationshipProjection: {\n",
    "CO_AUTHOR_EARLY: {\n",
    "type: 'CO_AUTHOR_EARLY',\n",
    "orientation: 'UNDIRECTED'\n",
    "}\n",
    "},\n",
    "includeIntermediateCommunities: true\n",
    "})\n",
    "YIELD nodeId, communityId, intermediateCommunityIds\n",
    "WITH gds.util.asNode(nodeId) AS node,\n",
    "intermediateCommunityIds[0] AS smallestCommunity\n",
    "SET node.louvainTrain = smallestCommunity;\n",
    "\"\"\"\n",
    "\n",
    "Louvian_Community_Test = \"\"\"CALL gds.louvain.stream({\n",
    "nodeProjection: 'Author',\n",
    "relationshipProjection: {\n",
    "CO_AUTHOR: {\n",
    "type: 'CO_AUTHOR',\n",
    "orientation: 'UNDIRECTED'\n",
    "}\n",
    "},\n",
    "includeIntermediateCommunities: true\n",
    "})\n",
    "YIELD nodeId, communityId, intermediateCommunityIds\n",
    "WITH gds.util.asNode(nodeId) AS node,\n",
    "intermediateCommunityIds[0] AS smallestCommunity\n",
    "SET node.louvainTest = smallestCommunity;\n",
    "\"\"\"\n",
    "Execute_Cypher_Query(Louvian_Community_Train)\n",
    "Execute_Cypher_Query(Louvian_Community_Test)"
   ]
  },
  {
   "cell_type": "code",
   "execution_count": 94,
   "metadata": {},
   "outputs": [],
   "source": [
    "### Common authors\n",
    "def apply_community_features(data, partition_prop, louvain_prop):\n",
    "    query = \"\"\"\n",
    "    UNWIND $pairs AS pair\n",
    "    MATCH (p1) WHERE id(p1) = pair.node1\n",
    "    MATCH (p2) WHERE id(p2) = pair.node2\n",
    "    RETURN pair.node1 AS node1,\n",
    "    pair.node2 AS node2,\n",
    "    CASE WHEN p1[$partitionProp] = p2[$partitionProp] THEN\n",
    "    1 ELSE 0 END AS samePartition,\n",
    "    CASE WHEN p1[$louvainProp] = p2[$louvainProp] THEN\n",
    "    1 ELSE 0 END AS sameLouvain\n",
    "    \"\"\"\n",
    "    pairs = [{\n",
    "        \"node1\": int(row[\"node1\"]),\n",
    "        \"node2\": int(row[\"node2\"])\n",
    "    } for i, row in data.iterrows()] \n",
    "    \n",
    "    with driver.session() as session:\n",
    "        features = pd.DataFrame(session.run(query, {'pairs':pairs, 'partitionProp':partition_prop, 'louvainProp':louvain_prop}))\n",
    "        session.close\n",
    "    features.columns = ['node1', 'node2', 'samePartition', 'sameLouvain']\n",
    "    return data.merge(features, how = 'inner', on = ['node1','node2'])"
   ]
  },
  {
   "cell_type": "code",
   "execution_count": 95,
   "metadata": {},
   "outputs": [],
   "source": [
    "training_df_features_3 = apply_community_features(training_df_features_2,\"partitionTrain\", \"louvainTrain\")\n",
    "test_df_features_3 = apply_community_features(test_df_features_2,\"partitionTest\", \"louvainTest\")"
   ]
  },
  {
   "cell_type": "code",
   "execution_count": 96,
   "metadata": {},
   "outputs": [
    {
     "data": {
      "text/plain": [
       "Index(['node1', 'node2', 'label', 'commonAuthors', 'prefAttachment', 'totalNeighbours', 'minTriangles', 'maxTriangles', 'minCoefficient', 'maxCoefficient', 'samePartition', 'sameLouvain'], dtype='object')"
      ]
     },
     "execution_count": 96,
     "metadata": {},
     "output_type": "execute_result"
    }
   ],
   "source": [
    "test_df_features_3.columns"
   ]
  },
  {
   "cell_type": "code",
   "execution_count": 97,
   "metadata": {},
   "outputs": [
    {
     "data": {
      "text/html": [
       "<div>\n",
       "<style scoped>\n",
       "    .dataframe tbody tr th:only-of-type {\n",
       "        vertical-align: middle;\n",
       "    }\n",
       "\n",
       "    .dataframe tbody tr th {\n",
       "        vertical-align: top;\n",
       "    }\n",
       "\n",
       "    .dataframe thead th {\n",
       "        text-align: right;\n",
       "    }\n",
       "</style>\n",
       "<table border=\"1\" class=\"dataframe\">\n",
       "  <thead>\n",
       "    <tr style=\"text-align: right;\">\n",
       "      <th></th>\n",
       "      <th>node1</th>\n",
       "      <th>node2</th>\n",
       "      <th>label</th>\n",
       "      <th>commonAuthors</th>\n",
       "      <th>prefAttachment</th>\n",
       "      <th>totalNeighbours</th>\n",
       "      <th>minTriangles</th>\n",
       "      <th>maxTriangles</th>\n",
       "      <th>minCoefficient</th>\n",
       "      <th>maxCoefficient</th>\n",
       "      <th>samePartition</th>\n",
       "      <th>sameLouvain</th>\n",
       "    </tr>\n",
       "  </thead>\n",
       "  <tbody>\n",
       "    <tr>\n",
       "      <th>0</th>\n",
       "      <td>75446</td>\n",
       "      <td>77302</td>\n",
       "      <td>0</td>\n",
       "      <td>1.0</td>\n",
       "      <td>550.0</td>\n",
       "      <td>46.0</td>\n",
       "      <td>18</td>\n",
       "      <td>62</td>\n",
       "      <td>0.060000</td>\n",
       "      <td>0.268398</td>\n",
       "      <td>0</td>\n",
       "      <td>0</td>\n",
       "    </tr>\n",
       "    <tr>\n",
       "      <th>1</th>\n",
       "      <td>113428</td>\n",
       "      <td>71802</td>\n",
       "      <td>0</td>\n",
       "      <td>0.0</td>\n",
       "      <td>8.0</td>\n",
       "      <td>6.0</td>\n",
       "      <td>1</td>\n",
       "      <td>6</td>\n",
       "      <td>1.000000</td>\n",
       "      <td>1.000000</td>\n",
       "      <td>0</td>\n",
       "      <td>0</td>\n",
       "    </tr>\n",
       "    <tr>\n",
       "      <th>2</th>\n",
       "      <td>74492</td>\n",
       "      <td>101073</td>\n",
       "      <td>0</td>\n",
       "      <td>0.0</td>\n",
       "      <td>54.0</td>\n",
       "      <td>21.0</td>\n",
       "      <td>3</td>\n",
       "      <td>49</td>\n",
       "      <td>0.320261</td>\n",
       "      <td>1.000000</td>\n",
       "      <td>0</td>\n",
       "      <td>0</td>\n",
       "    </tr>\n",
       "    <tr>\n",
       "      <th>3</th>\n",
       "      <td>78406</td>\n",
       "      <td>68866</td>\n",
       "      <td>0</td>\n",
       "      <td>0.0</td>\n",
       "      <td>260.0</td>\n",
       "      <td>36.0</td>\n",
       "      <td>44</td>\n",
       "      <td>45</td>\n",
       "      <td>0.135385</td>\n",
       "      <td>1.000000</td>\n",
       "      <td>0</td>\n",
       "      <td>0</td>\n",
       "    </tr>\n",
       "    <tr>\n",
       "      <th>4</th>\n",
       "      <td>98046</td>\n",
       "      <td>70211</td>\n",
       "      <td>0</td>\n",
       "      <td>0.0</td>\n",
       "      <td>1.0</td>\n",
       "      <td>2.0</td>\n",
       "      <td>0</td>\n",
       "      <td>0</td>\n",
       "      <td>0.000000</td>\n",
       "      <td>0.000000</td>\n",
       "      <td>1</td>\n",
       "      <td>0</td>\n",
       "    </tr>\n",
       "  </tbody>\n",
       "</table>\n",
       "</div>"
      ],
      "text/plain": [
       "    node1   node2  label  commonAuthors  prefAttachment  totalNeighbours  minTriangles  maxTriangles  minCoefficient  maxCoefficient  samePartition  sameLouvain\n",
       "0   75446   77302      0            1.0           550.0             46.0            18            62        0.060000        0.268398              0            0\n",
       "1  113428   71802      0            0.0             8.0              6.0             1             6        1.000000        1.000000              0            0\n",
       "2   74492  101073      0            0.0            54.0             21.0             3            49        0.320261        1.000000              0            0\n",
       "3   78406   68866      0            0.0           260.0             36.0            44            45        0.135385        1.000000              0            0\n",
       "4   98046   70211      0            0.0             1.0              2.0             0             0        0.000000        0.000000              1            0"
      ]
     },
     "execution_count": 97,
     "metadata": {},
     "output_type": "execute_result"
    }
   ],
   "source": [
    "test_df_features_3.head()"
   ]
  },
  {
   "cell_type": "code",
   "execution_count": 98,
   "metadata": {},
   "outputs": [
    {
     "name": "stdout",
     "output_type": "stream",
     "text": [
      "Initialize instance\n"
     ]
    },
    {
     "data": {
      "text/plain": [
       "Pipeline(steps=[('rf', RandomForestClassifier(max_depth=4))])"
      ]
     },
     "execution_count": 98,
     "metadata": {},
     "output_type": "execute_result"
    }
   ],
   "source": [
    "prepare_dataset_params = {'features' : ['commonAuthors','prefAttachment','totalNeighbours', 'minTriangles', 'maxTriangles', \\\n",
    "          'minCoefficient', 'maxCoefficient', 'samePartition', 'sameLouvain']\n",
    "                         }\n",
    "model_params = {'max_depth':4, 'n_estimators':100}\n",
    "\n",
    "data_pipeline = Pipeline([\n",
    "    ('prepare_dataset', Prepare_Dataset(**prepare_dataset_params)),\n",
    "    ('scaler', StandardScaler())\n",
    "    ])\n",
    "\n",
    "model_pipeline = Pipeline([\n",
    "    #('xgb', xgb(**model_params))\n",
    "    ('rf', RandomForestClassifier(**model_params))\n",
    "    ])\n",
    "\n",
    "X_Train = data_pipeline.fit_transform(training_df_features_3)\n",
    "y_Train = np.array(training_df_features_3['label']).reshape(-1, )\n",
    "X_Test = data_pipeline.transform(test_df_features_3)\n",
    "y_Test = np.array(test_df_features_3['label']).reshape(-1, )\n",
    "\n",
    "\n",
    "model_pipeline.fit(X_Train, y_Train)"
   ]
  },
  {
   "cell_type": "code",
   "execution_count": 99,
   "metadata": {},
   "outputs": [
    {
     "name": "stdout",
     "output_type": "stream",
     "text": [
      "{'Accuracy': 0.9315625924829831, 'Recall': 0.9199220676728815, 'F1': 0.9307565625311908}\n"
     ]
    }
   ],
   "source": [
    "metrics_train = {'Accuracy' : accuracy_score(y_Train, model_pipeline.predict(X_Train)),\\\n",
    "           'Recall' : recall_score(y_Train, model_pipeline.predict(X_Train)),\\\n",
    "           'F1' : f1_score(y_Train, model_pipeline.predict(X_Train))}\n",
    "print(metrics_train)"
   ]
  },
  {
   "cell_type": "code",
   "execution_count": 100,
   "metadata": {},
   "outputs": [
    {
     "name": "stdout",
     "output_type": "stream",
     "text": [
      "{'Accuracy': 0.935962119576948, 'Recall': 0.928137815670192, 'F1': 0.9354571164409637}\n"
     ]
    }
   ],
   "source": [
    "metrics_test = {'Accuracy' : accuracy_score(y_Test, model_pipeline.predict(X_Test)),\\\n",
    "           'Recall' : recall_score(y_Test, model_pipeline.predict(X_Test)),\\\n",
    "           'F1' : f1_score(y_Test, model_pipeline.predict(X_Test))}\n",
    "print(metrics_test)"
   ]
  },
  {
   "cell_type": "code",
   "execution_count": 101,
   "metadata": {},
   "outputs": [
    {
     "data": {
      "image/png": "[encoded data removed]",
      "text/plain": [
       "<Figure size 1080x360 with 1 Axes>"
      ]
     },
     "metadata": {
      "needs_background": "light"
     },
     "output_type": "display_data"
    }
   ],
   "source": [
    "df = pd.DataFrame(list(model_pipeline[0].feature_importances_), index = list(prepare_dataset_params['features']))\n",
    "df.sort_values(by=[0], ascending = False).plot.bar(figsize = (15,5));"
   ]
  },
  {
   "cell_type": "code",
   "execution_count": null,
   "metadata": {},
   "outputs": [],
   "source": []
  },
  {
   "cell_type": "code",
   "execution_count": null,
   "metadata": {},
   "outputs": [],
   "source": []
  }
 ],
 "metadata": {
  "kernelspec": {
   "display_name": "Python 3",
   "language": "python",
   "name": "python3"
  },
  "language_info": {
   "codemirror_mode": {
    "name": "ipython",
    "version": 3
   },
   "file_extension": ".py",
   "mimetype": "text/x-python",
   "name": "python",
   "nbconvert_exporter": "python",
   "pygments_lexer": "ipython3",
   "version": "3.8.5"
  }
 },
 "nbformat": 4,
 "nbformat_minor": 4
}
